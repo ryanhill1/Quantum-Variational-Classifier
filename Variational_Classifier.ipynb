{
 "cells": [
  {
   "cell_type": "code",
   "execution_count": 1,
   "metadata": {},
   "outputs": [],
   "source": [
    "import tensorflow as tf\n",
    "import tensorflow_quantum as tfq\n",
    "import os\n",
    "\n",
    "import cirq\n",
    "import sympy\n",
    "import numpy as np\n",
    "import seaborn as sns\n",
    "import collections\n",
    "import itertools as it\n",
    "import random\n",
    "import math\n",
    "import qutip\n",
    "import pydot\n",
    "import cmath\n",
    "import scipy.linalg as splin\n",
    "import warnings\n",
    "\n",
    "# visualization tools\n",
    "%matplotlib inline\n",
    "import matplotlib.pyplot as plt\n",
    "from cirq.contrib.svg import SVGCircuit"
   ]
  },
  {
   "cell_type": "markdown",
   "metadata": {},
   "source": [
    "# Quantum Variational Classifier \n",
    "\n",
    "This program implements and tests the [Havlíček et al. (2018)](10.1038/s41586-019-0980-2) variational quantum classifier. The algorithm takes on the original supervised learning problem: we are given data from a training set $T$ and a test set $S$ of a subset $\\Omega \\subset {\\rm I\\!R}^d$. Both are assumed to be labeled by a map $m$: $T \\cup S \\longrightarrow \\{+1,-1\\}$ unknown to the algorithm. The goal is to approximate the map $\\tilde{m}: S \\rightarrow \\{+1,-1\\}$ such that is agrees with high probability with the true map $m(\\textbf{s}) = \\tilde{m}(\\textbf{s})$ on the test data $\\textbf{s} \\in S$. "
   ]
  },
  {
   "cell_type": "markdown",
   "metadata": {},
   "source": [
    "### 0. Helper Functions and Testing"
   ]
  },
  {
   "cell_type": "code",
   "execution_count": 2,
   "metadata": {},
   "outputs": [],
   "source": [
    "n = 2 # num qubits\n",
    "qs = [cirq.GridQubit(i, 0) for i in range(n)]\n",
    "pauli_z = np.array([[1,0],[0,-1]] , dtype=float) # Pauli-Z\n",
    "pauli_y = np.array([[0,-1j],[1j,0]], dtype=complex) # Pauli-Y\n",
    "I = np.eye(n) # Identity\n",
    "H = cirq.H # Hadamard"
   ]
  },
  {
   "cell_type": "code",
   "execution_count": 3,
   "metadata": {},
   "outputs": [],
   "source": [
    "def Ry(theta):\n",
    "    return np.array([[cmath.cos(theta/2.), -1*cmath.sin(theta/2.)], \n",
    "                     [cmath.cos(theta/2.), cmath.sin(theta/2.)]])\n",
    "\n",
    "def Rz(theta):\n",
    "    return np.array([[cmath.exp(-1j*theta/2), 0],\n",
    "                     [0, cmath.exp(1j*theta/2)]])"
   ]
  },
  {
   "cell_type": "code",
   "execution_count": 4,
   "metadata": {},
   "outputs": [],
   "source": [
    "# from numpy source code: this is their unitary check\n",
    "def is_unitary(matrix: np.ndarray, *, rtol: float = 1e-5, atol: float = 1e-8) -> bool:\n",
    "    return (matrix.shape[0] == matrix.shape[1] and\n",
    "    np.allclose(matrix.dot(np.conj(matrix.T)),\n",
    "    np.eye(matrix.shape[0]),\n",
    "    rtol=rtol,\n",
    "    atol=atol))"
   ]
  },
  {
   "cell_type": "code",
   "execution_count": 5,
   "metadata": {},
   "outputs": [],
   "source": [
    "flatten = lambda t: [item for sublist in t for item in sublist]\n",
    "expand = lambda a: np.array([list(a)]*10)"
   ]
  },
  {
   "cell_type": "code",
   "execution_count": 6,
   "metadata": {},
   "outputs": [],
   "source": [
    "# all sub-lists must be of equal length\n",
    "def lst_average(lst):\n",
    "    N = len(lst)\n",
    "    m = len(lst[0])\n",
    "    new = [0]*m\n",
    "    for i in range(N):\n",
    "        for j in range(m):\n",
    "            new[j] += lst[i][j]\n",
    "    return [x/N for x in new]"
   ]
  },
  {
   "cell_type": "code",
   "execution_count": 7,
   "metadata": {},
   "outputs": [],
   "source": [
    "def regex_complex(U):\n",
    "    str_U = str(U)\n",
    "    regex = re.compile(r'(\\d.\\s+(-|\\+)\\d.\\d?j|-?\\d.\\d*\\s?(-|\\+)\\d.\\d*j)')\n",
    "    nums = regex.findall(str_U)\n",
    "\n",
    "    complex_array = []\n",
    "    for i, n in enumerate(nums):\n",
    "        complex_array.append(complex(n[0].replace(' ', '')))\n",
    "    \n",
    "    complex_array = np.array(complex_array)\n",
    "    return complex_array.reshape((4,4))"
   ]
  },
  {
   "cell_type": "code",
   "execution_count": 8,
   "metadata": {},
   "outputs": [],
   "source": [
    "def powerset_help(S):\n",
    "    x = len(S)\n",
    "    masks = [1 << i for i in range(x)]\n",
    "    for i in range(1 << x):\n",
    "        yield [ss for mask, ss in zip(masks, S) if i & mask]\n",
    "        \n",
    "def powerset(S, mx):\n",
    "    return [l for l in list(powerset_help(S)) if len(l) <= mx]"
   ]
  },
  {
   "cell_type": "code",
   "execution_count": 9,
   "metadata": {},
   "outputs": [],
   "source": [
    "def kron(*elts):\n",
    "    res = 1\n",
    "    for e in elts:\n",
    "        res = np.kron(res,e)\n",
    "    return res"
   ]
  },
  {
   "cell_type": "markdown",
   "metadata": {},
   "source": [
    "## 1. Construct non-trivial data encoding feature map with entanglement $\\left| \\Phi(x_i) \\right\\rangle \\left\\langle \\Phi(x_i) \\right|  $"
   ]
  },
  {
   "cell_type": "markdown",
   "metadata": {},
   "source": [
    "The feature map is an injective encoding of the classical data $\\textbf{x} \\in {\\rm I\\!R}^d$ into a quantum state $\\left| \\Phi \\right\\rangle \\left\\langle \\Phi \\right|$. We use the following unitary feature map onto $n$-qubits, where $H$ denotes the conventional Hadamard gate:\n",
    "\n",
    "$$\\left|\\Phi(\\textbf{x})\\right\\rangle = \\mathcal{U}_{\\Phi(\\textbf{x})}\\left|0\\right\\rangle^{\\otimes n} = U_{\\Phi(\\textbf{x})}H^{\\otimes n} U_{\\Phi(\\textbf{x})}H^{\\otimes n} \\left|0\\right\\rangle^{\\otimes n}$$\n",
    "where,\n",
    "$$U_{\\Phi(\\textbf{x})} = \\exp\\bigg(i \\sum_{S \\subseteq [n]} \\phi_S(\\textbf{x}) \\prod_{i \\in S} Z_i \\bigg)$$\n",
    "where the $2^n$ coefficients $\\phi(\\textbf{x}) \\in {\\rm I\\!R}$ are now non-linear functions of the input data $\\textbf{x} \\in {\\rm I\\!R}^n$. In general, maps with low degree expansions $|S| \\leq d$ can be implemented efficiently. As in the original paper, we will use $n=d=2$."
   ]
  },
  {
   "cell_type": "code",
   "execution_count": 10,
   "metadata": {},
   "outputs": [],
   "source": [
    "# returns a matrix that applies the 1-qubit matrix U to the qubits indexed by ns (a list)\n",
    "# does nothing to the other qubits\n",
    "def U_apply(U, ns, n_qubits):\n",
    "    U_n = 1\n",
    "    for i in range(n_qubits-1, -1, -1): #n_qubits-1 -> 0, inclusive\n",
    "        U_n = np.kron(U_n, U if (i in ns) else I)\n",
    "    return U_n"
   ]
  },
  {
   "cell_type": "markdown",
   "metadata": {},
   "source": [
    "Considering only Ising type interactions ($d=2$), the unitaries are generated from one- and two- big gates of the form\n",
    "\n",
    "$$U_{\\phi_{\\{k\\}}(\\textbf{x})} = \\exp\\big(i\\phi_{\\{k\\}}(\\textbf{x})Z_k \\big)$$\n",
    "$$U_{\\phi_{\\{l,m\\}}(\\textbf{x})} = \\exp\\big(i\\phi_{\\{k,l\\}}(\\textbf{x})Z_kZ_l\\big)$$\n",
    "\n",
    "where we have followed Havlíček et al. and chosen $\\phi_{\\{ i \\}} = x_i$ and $\\phi_{\\{ 1,2 \\}} = (\\pi - x_1)(\\pi - x_2)$ "
   ]
  },
  {
   "cell_type": "code",
   "execution_count": 11,
   "metadata": {},
   "outputs": [],
   "source": [
    "# each term of phi_S in sum\n",
    "def phi(S,x):\n",
    "    if len(S) == 2:\n",
    "        return (np.pi - x[S[0]])*(np.pi-x[S[1]])\n",
    "    elif len(S) == 1:\n",
    "        return x[S[0]]\n",
    "    elif len(S) == 0:\n",
    "        return 0\n",
    "    else:\n",
    "        assert False, \"expected |S|<=2\""
   ]
  },
  {
   "cell_type": "code",
   "execution_count": 12,
   "metadata": {},
   "outputs": [],
   "source": [
    "# 2^n x 2^n Block diagonal unitary for x\n",
    "def u_phi(x, n, S_size):\n",
    "    ss = powerset(np.arange(n), S_size)\n",
    "    total = np.zeros((2**n,2**n))\n",
    "    for s in ss:\n",
    "        total += phi(s, x)*U_apply(pauli_z,s,n)\n",
    "    u = np.exp(1j*total)\n",
    "    u = np.diag(np.diag(u))\n",
    "    return u"
   ]
  },
  {
   "cell_type": "code",
   "execution_count": 13,
   "metadata": {},
   "outputs": [],
   "source": [
    "def random_x_input(n):\n",
    "    return [random.random()*2*np.pi for i in range(n)]"
   ]
  },
  {
   "cell_type": "code",
   "execution_count": 14,
   "metadata": {},
   "outputs": [],
   "source": [
    "def u_gate(x, n):\n",
    "    return u_phi(x, n, 2)"
   ]
  },
  {
   "cell_type": "code",
   "execution_count": 15,
   "metadata": {},
   "outputs": [],
   "source": [
    "# given matrix, create equivalent circuit using only operations from tfq.util.get_supported_gates()\n",
    "def synthesized_circuit(matrix):\n",
    "    synthesized_operations = cirq.two_qubit_matrix_to_operations(\n",
    "    cirq.GridQubit(0,0),\n",
    "    cirq.GridQubit(1,0),\n",
    "    matrix,\n",
    "    allow_partial_czs=False,\n",
    "    )\n",
    "    \n",
    "    synth_circuit = cirq.Circuit(synthesized_operations)\n",
    "    \n",
    "    synthesized_matrix = cirq.unitary(synth_circuit)\n",
    "\n",
    "    cirq.testing.assert_allclose_up_to_global_phase(\n",
    "        matrix,\n",
    "        synthesized_matrix,\n",
    "        atol=1e-2\n",
    "    )\n",
    "    \n",
    "    return synth_circuit"
   ]
  },
  {
   "cell_type": "code",
   "execution_count": 16,
   "metadata": {},
   "outputs": [],
   "source": [
    "# two-qubit feature map with d=2\n",
    "def feature_map(x, n, d=2):\n",
    "    circuit = cirq.Circuit()\n",
    "    u_gate_matrix = u_gate(x, n)\n",
    "    synth_circuit = synthesized_circuit(u_gate_matrix)\n",
    "    for _ in range(d):\n",
    "        circuit.append([H(q) for q in qs], strategy=cirq.InsertStrategy.INLINE)\n",
    "        circuit.append(synth_circuit)\n",
    "    return circuit"
   ]
  },
  {
   "cell_type": "code",
   "execution_count": 17,
   "metadata": {},
   "outputs": [
    {
     "data": {
      "image/svg+xml": [
       "<svg xmlns=\"http://www.w3.org/2000/svg\" width=\"1283.715703125\" height=\"100.0\"><line x1=\"32.246796875\" x2=\"1253.715703125\" y1=\"25.0\" y2=\"25.0\" stroke=\"#1967d2\" stroke-width=\"1\" /><line x1=\"32.246796875\" x2=\"1253.715703125\" y1=\"75.0\" y2=\"75.0\" stroke=\"#1967d2\" stroke-width=\"1\" /><line x1=\"252.4556640625\" x2=\"252.4556640625\" y1=\"25.0\" y2=\"75.0\" stroke=\"black\" stroke-width=\"3\" /><line x1=\"442.246953125\" x2=\"442.246953125\" y1=\"25.0\" y2=\"75.0\" stroke=\"black\" stroke-width=\"3\" /><line x1=\"842.0667187500001\" x2=\"842.0667187500001\" y1=\"25.0\" y2=\"75.0\" stroke=\"black\" stroke-width=\"3\" /><line x1=\"1031.8580078125\" x2=\"1031.8580078125\" y1=\"25.0\" y2=\"75.0\" stroke=\"black\" stroke-width=\"3\" /><rect x=\"10.0\" y=\"5.0\" width=\"44.49359375\" height=\"40\" stroke=\"black\" fill=\"white\" stroke-width=\"0\" /><text x=\"32.246796875\" y=\"25.0\" dominant-baseline=\"middle\" text-anchor=\"middle\" font-size=\"14px\" font-family=\"Arial\">(0, 0): </text><rect x=\"10.0\" y=\"55.0\" width=\"44.49359375\" height=\"40\" stroke=\"black\" fill=\"white\" stroke-width=\"0\" /><text x=\"32.246796875\" y=\"75.0\" dominant-baseline=\"middle\" text-anchor=\"middle\" font-size=\"14px\" font-family=\"Arial\">(1, 0): </text><rect x=\"74.49359375\" y=\"5.0\" width=\"40\" height=\"40\" stroke=\"black\" fill=\"white\" stroke-width=\"1\" /><text x=\"94.49359375\" y=\"25.0\" dominant-baseline=\"middle\" text-anchor=\"middle\" font-size=\"18px\" font-family=\"Arial\">H</text><rect x=\"74.49359375\" y=\"55.0\" width=\"40\" height=\"40\" stroke=\"black\" fill=\"white\" stroke-width=\"1\" /><text x=\"94.49359375\" y=\"75.0\" dominant-baseline=\"middle\" text-anchor=\"middle\" font-size=\"18px\" font-family=\"Arial\">H</text><rect x=\"134.49359375\" y=\"5.0\" width=\"77.9620703125\" height=\"40\" stroke=\"black\" fill=\"white\" stroke-width=\"1\" /><text x=\"173.47462890625002\" y=\"25.0\" dominant-baseline=\"middle\" text-anchor=\"middle\" font-size=\"14px\" font-family=\"Arial\">PhX(1)^0.5</text><circle cx=\"252.4556640625\" cy=\"25.0\" r=\"10.0\" /><circle cx=\"252.4556640625\" cy=\"75.0\" r=\"10.0\" /><rect x=\"292.4556640625\" y=\"5.0\" width=\"109.79128906250003\" height=\"40\" stroke=\"black\" fill=\"white\" stroke-width=\"1\" /><text x=\"347.35130859375\" y=\"25.0\" dominant-baseline=\"middle\" text-anchor=\"middle\" font-size=\"14px\" font-family=\"Arial\">PhX(-0.5)^0.426</text><circle cx=\"442.246953125\" cy=\"25.0\" r=\"10.0\" /><circle cx=\"442.246953125\" cy=\"75.0\" r=\"10.0\" /><rect x=\"482.24695312499995\" y=\"5.0\" width=\"77.9620703125\" height=\"40\" stroke=\"black\" fill=\"white\" stroke-width=\"1\" /><text x=\"521.22798828125\" y=\"25.0\" dominant-baseline=\"middle\" text-anchor=\"middle\" font-size=\"14px\" font-family=\"Arial\">PhX(0)^0.5</text><rect x=\"482.24695312499995\" y=\"55.0\" width=\"77.9620703125\" height=\"40\" stroke=\"black\" fill=\"white\" stroke-width=\"1\" /><text x=\"521.22798828125\" y=\"75.0\" dominant-baseline=\"middle\" text-anchor=\"middle\" font-size=\"14px\" font-family=\"Arial\">Z^-0.327</text><rect x=\"580.2090234375\" y=\"5.0\" width=\"63.895624999999995\" height=\"40\" stroke=\"black\" fill=\"white\" stroke-width=\"1\" /><text x=\"612.1568359375001\" y=\"25.0\" dominant-baseline=\"middle\" text-anchor=\"middle\" font-size=\"14px\" font-family=\"Arial\">Z^-0.316</text><rect x=\"664.1046484375\" y=\"5.0\" width=\"40\" height=\"40\" stroke=\"black\" fill=\"white\" stroke-width=\"1\" /><text x=\"684.1046484375\" y=\"25.0\" dominant-baseline=\"middle\" text-anchor=\"middle\" font-size=\"18px\" font-family=\"Arial\">H</text><rect x=\"664.1046484375\" y=\"55.0\" width=\"40\" height=\"40\" stroke=\"black\" fill=\"white\" stroke-width=\"1\" /><text x=\"684.1046484375\" y=\"75.0\" dominant-baseline=\"middle\" text-anchor=\"middle\" font-size=\"18px\" font-family=\"Arial\">H</text><rect x=\"724.1046484375\" y=\"5.0\" width=\"77.9620703125\" height=\"40\" stroke=\"black\" fill=\"white\" stroke-width=\"1\" /><text x=\"763.08568359375\" y=\"25.0\" dominant-baseline=\"middle\" text-anchor=\"middle\" font-size=\"14px\" font-family=\"Arial\">PhX(1)^0.5</text><circle cx=\"842.0667187500001\" cy=\"25.0\" r=\"10.0\" /><circle cx=\"842.0667187500001\" cy=\"75.0\" r=\"10.0\" /><rect x=\"882.0667187500001\" y=\"5.0\" width=\"109.79128906250003\" height=\"40\" stroke=\"black\" fill=\"white\" stroke-width=\"1\" /><text x=\"936.9623632812501\" y=\"25.0\" dominant-baseline=\"middle\" text-anchor=\"middle\" font-size=\"14px\" font-family=\"Arial\">PhX(-0.5)^0.426</text><circle cx=\"1031.8580078125\" cy=\"25.0\" r=\"10.0\" /><circle cx=\"1031.8580078125\" cy=\"75.0\" r=\"10.0\" /><rect x=\"1071.8580078125\" y=\"5.0\" width=\"77.9620703125\" height=\"40\" stroke=\"black\" fill=\"white\" stroke-width=\"1\" /><text x=\"1110.8390429687502\" y=\"25.0\" dominant-baseline=\"middle\" text-anchor=\"middle\" font-size=\"14px\" font-family=\"Arial\">PhX(0)^0.5</text><rect x=\"1071.8580078125\" y=\"55.0\" width=\"77.9620703125\" height=\"40\" stroke=\"black\" fill=\"white\" stroke-width=\"1\" /><text x=\"1110.8390429687502\" y=\"75.0\" dominant-baseline=\"middle\" text-anchor=\"middle\" font-size=\"14px\" font-family=\"Arial\">Z^-0.327</text><rect x=\"1169.820078125\" y=\"5.0\" width=\"63.895624999999995\" height=\"40\" stroke=\"black\" fill=\"white\" stroke-width=\"1\" /><text x=\"1201.767890625\" y=\"25.0\" dominant-baseline=\"middle\" text-anchor=\"middle\" font-size=\"14px\" font-family=\"Arial\">Z^-0.316</text></svg>"
      ],
      "text/plain": [
       "<cirq.contrib.svg.svg.SVGCircuit at 0x7fd1e93f3c70>"
      ]
     },
     "execution_count": 17,
     "metadata": {},
     "output_type": "execute_result"
    }
   ],
   "source": [
    "# print out resulting feature map circuit for a random test input\n",
    "test_input = random_x_input(n)\n",
    "feature_map_circuit = cirq.Circuit()\n",
    "feature_map_circuit.append(feature_map(test_input, n))\n",
    "SVGCircuit(feature_map_circuit)"
   ]
  },
  {
   "cell_type": "markdown",
   "metadata": {},
   "source": [
    "## 2. Construct short-depth discriminator circuit $W(\\theta)$"
   ]
  },
  {
   "cell_type": "markdown",
   "metadata": {},
   "source": [
    "The general short-depth circuit to define a seperating hyperplane is comprised of the following sequence of single qubit and multi-qubit gates:\n",
    "\n",
    "$$ W(\\theta) = U_{loc}^{(l)}(\\theta_l)U_{ent}...U_{loc}^{(2)}(\\theta_2)U_{ent}U_{loc}^{(1)}(\\theta_1) $$\n",
    "\n",
    "\n",
    "We apply a circuit of $l$ repeated entanglers and interleave them with layers comprised of local single qubit rotations:\n",
    "\n",
    "$$ U_{loc}^{(t)}(\\theta_t) = \\otimes_{m=1}^n U(\\theta_{m,t}) \\quad \\text{and} \\quad U(\\theta_{m,t}) = \\exp\\bigg(i \\frac{1}{2}\\theta_{m,t}^z Z_m\\bigg) \\exp\\bigg(i \\frac{1}{2}\\theta_{m,t}^y Y_m\\bigg) $$\n",
    "\n",
    "parameterized by $\\theta_t \\in {\\rm I\\!R}^{2n}$ and $\\theta_{i,t} \\in {\\rm I\\!R}^{2}$. For the feature map that we consider, we use entangling unitaries comprised of products of controlled-Z phase gates $CZ(i,j)$ between qubits $i$ and $j$. The entangling interations follow the interaction graph that $G=(E,V)$ that we used to generate the feature map.\n",
    "\n",
    "$$ U_{ent} = \\prod_{(i,j) \\in E} CZ(i,j) $$ "
   ]
  },
  {
   "cell_type": "code",
   "execution_count": 18,
   "metadata": {},
   "outputs": [],
   "source": [
    "# local single-qubit rotations\n",
    "def U_loc(theta, n, t, qs, layer):\n",
    "    #circuit = cirq.Circuit()\n",
    "    #y_angles = []\n",
    "    #z_angles = []\n",
    "    for m in range(n):\n",
    "        for i in range(t):\n",
    "            if (m % 2 == 0):\n",
    "                #y_angles.append(theta[4*layer+2*m+i])\n",
    "                yield cirq.ry(theta[4*layer+2*m+i]).on(qs[m])\n",
    "            else:\n",
    "                #z_angles.append(theta[4*layer+2*m+i])\n",
    "                yield cirq.rz(theta[4*layer+2*m+i]).on(qs[m])\n",
    "#     for m in range(n):\n",
    "#         matrix_RyRz = np.kron(Ry(y_angles[m]), Rz(z_angles[m]))\n",
    "#         print(matrix_RyRz)\n",
    "#         matrix_RyRz_new = regex_complex(matrix_RyRz)\n",
    "#         synth = synthesized_circuit(np.round(matrix_RyRz_new, 3))\n",
    "#         circuit.append(synth)\n",
    "#     return circuit"
   ]
  },
  {
   "cell_type": "code",
   "execution_count": 19,
   "metadata": {},
   "outputs": [],
   "source": [
    "# entangling interactions\n",
    "def U_ent(qs):\n",
    "    for m in range(len(qs)-1):\n",
    "        yield cirq.CZ(qs[m],qs[m+1])\n",
    "    #yield cirq.CZ(qs[-1], qs[0]) # comment out for n <= 2"
   ]
  },
  {
   "cell_type": "code",
   "execution_count": 20,
   "metadata": {},
   "outputs": [],
   "source": [
    "def W_help(theta, n, t, qs, layer, l):\n",
    "    #theta = flatten([[theta[0]]*2, [theta[1]]*2]*2) # uncomment to reduc num params to two\n",
    "    W = cirq.Circuit()\n",
    "    U_local = U_loc(theta, n, t, qs, layer)\n",
    "    W.append(U_local)\n",
    "    if (layer != l-1): # repeated entanglers\n",
    "        W.append(U_ent(qs))\n",
    "    return W"
   ]
  },
  {
   "cell_type": "code",
   "execution_count": 21,
   "metadata": {},
   "outputs": [
    {
     "data": {
      "image/svg+xml": [
       "<svg xmlns=\"http://www.w3.org/2000/svg\" width=\"562.580625\" height=\"100.0\"><line x1=\"32.246796875\" x2=\"532.580625\" y1=\"25.0\" y2=\"25.0\" stroke=\"#1967d2\" stroke-width=\"1\" /><line x1=\"32.246796875\" x2=\"532.580625\" y1=\"75.0\" y2=\"75.0\" stroke=\"#1967d2\" stroke-width=\"1\" /><line x1=\"293.537109375\" x2=\"293.537109375\" y1=\"25.0\" y2=\"75.0\" stroke=\"black\" stroke-width=\"3\" /><rect x=\"10.0\" y=\"5.0\" width=\"44.49359375\" height=\"40\" stroke=\"black\" fill=\"white\" stroke-width=\"0\" /><text x=\"32.246796875\" y=\"25.0\" dominant-baseline=\"middle\" text-anchor=\"middle\" font-size=\"14px\" font-family=\"Arial\">(0, 0): </text><rect x=\"10.0\" y=\"55.0\" width=\"44.49359375\" height=\"40\" stroke=\"black\" fill=\"white\" stroke-width=\"0\" /><text x=\"32.246796875\" y=\"75.0\" dominant-baseline=\"middle\" text-anchor=\"middle\" font-size=\"14px\" font-family=\"Arial\">(1, 0): </text><rect x=\"74.49359375\" y=\"5.0\" width=\"79.5217578125\" height=\"40\" stroke=\"black\" fill=\"white\" stroke-width=\"1\" /><text x=\"114.25447265625\" y=\"25.0\" dominant-baseline=\"middle\" text-anchor=\"middle\" font-size=\"14px\" font-family=\"Arial\">Ry(0.212π)</text><rect x=\"74.49359375\" y=\"55.0\" width=\"79.5217578125\" height=\"40\" stroke=\"black\" fill=\"white\" stroke-width=\"1\" /><text x=\"114.25447265625\" y=\"75.0\" dominant-baseline=\"middle\" text-anchor=\"middle\" font-size=\"14px\" font-family=\"Arial\">Rz(0.156π)</text><rect x=\"174.01535156249997\" y=\"5.0\" width=\"79.5217578125\" height=\"40\" stroke=\"black\" fill=\"white\" stroke-width=\"1\" /><text x=\"213.77623046875\" y=\"25.0\" dominant-baseline=\"middle\" text-anchor=\"middle\" font-size=\"14px\" font-family=\"Arial\">Ry(0.082π)</text><rect x=\"174.01535156249997\" y=\"55.0\" width=\"79.5217578125\" height=\"40\" stroke=\"black\" fill=\"white\" stroke-width=\"1\" /><text x=\"213.77623046875\" y=\"75.0\" dominant-baseline=\"middle\" text-anchor=\"middle\" font-size=\"14px\" font-family=\"Arial\">Rz(0.21π)</text><circle cx=\"293.537109375\" cy=\"25.0\" r=\"10.0\" /><circle cx=\"293.537109375\" cy=\"75.0\" r=\"10.0\" /><rect x=\"333.537109375\" y=\"5.0\" width=\"79.5217578125\" height=\"40\" stroke=\"black\" fill=\"white\" stroke-width=\"1\" /><text x=\"373.29798828125\" y=\"25.0\" dominant-baseline=\"middle\" text-anchor=\"middle\" font-size=\"14px\" font-family=\"Arial\">Ry(0.109π)</text><rect x=\"333.537109375\" y=\"55.0\" width=\"79.5217578125\" height=\"40\" stroke=\"black\" fill=\"white\" stroke-width=\"1\" /><text x=\"373.29798828125\" y=\"75.0\" dominant-baseline=\"middle\" text-anchor=\"middle\" font-size=\"14px\" font-family=\"Arial\">Rz(0.121π)</text><rect x=\"433.0588671875\" y=\"5.0\" width=\"79.5217578125\" height=\"40\" stroke=\"black\" fill=\"white\" stroke-width=\"1\" /><text x=\"472.81974609375004\" y=\"25.0\" dominant-baseline=\"middle\" text-anchor=\"middle\" font-size=\"14px\" font-family=\"Arial\">Ry(0.135π)</text><rect x=\"433.0588671875\" y=\"55.0\" width=\"79.5217578125\" height=\"40\" stroke=\"black\" fill=\"white\" stroke-width=\"1\" /><text x=\"472.81974609375004\" y=\"75.0\" dominant-baseline=\"middle\" text-anchor=\"middle\" font-size=\"14px\" font-family=\"Arial\">Rz(0.098π)</text></svg>"
      ],
      "text/plain": [
       "<cirq.contrib.svg.svg.SVGCircuit at 0x7fd1e944ddc0>"
      ]
     },
     "execution_count": 21,
     "metadata": {},
     "output_type": "execute_result"
    }
   ],
   "source": [
    "# short-depth discriminator circuit \n",
    "def W_circuit(theta, n=2, t=2, l=2):\n",
    "    qs = [cirq.GridQubit(i,0) for i in range(n)]\n",
    "    W_circuit = cirq.Circuit()\n",
    "    for layer in range(l):\n",
    "        W_circuit.append(W_help(theta, n, t, qs, layer, l))\n",
    "    return W_circuit\n",
    "\n",
    "# theta = np.random.rand(l,n,t)\n",
    "theta = np.random.rand(8)\n",
    "SVGCircuit(W_circuit(theta, 2, 2, 2))"
   ]
  },
  {
   "cell_type": "markdown",
   "metadata": {},
   "source": [
    "## 3. Binary label classification in the X-Z plane of the Bloch Sphere"
   ]
  },
  {
   "cell_type": "markdown",
   "metadata": {},
   "source": [
    "We will apply now test our two-qubit variational circuit for a binary classification task. In this task, two random vectors in the X-Z plane of the Bloch sphere are chosen. Around these two vectors, we randomly sample two sets of quantum data points; the task is to learn to distinguish the two sets. \n",
    "\n",
    "An arbitrary single qubit state can be written:\n",
    "\n",
    "$$ \\left| \\psi \\right\\rangle = e^{i \\gamma} \\big(\\cos \\frac{\\theta}{2}\\left|0\\right\\rangle + e^{i \\phi} \\sin \\frac{\\theta}{2}\\left|1\\right\\rangle \\big) $$ \n",
    "\n",
    "where $\\theta$, $\\phi$ and $\\gamma$ are real numbers. The numbers $0 \\leq \\theta \\leq \\pi$ and $0 \\leq \\phi \\leq 2\\pi$ define a point on the Bloch sphere. For testing purposes, we also generate data-sets for binary classification on a number-line, and on the unit-circle."
   ]
  },
  {
   "cell_type": "markdown",
   "metadata": {},
   "source": [
    "### a.  Generate dataset and apply feature map"
   ]
  },
  {
   "cell_type": "code",
   "execution_count": 22,
   "metadata": {},
   "outputs": [],
   "source": [
    "def number_line_data(num_samples):\n",
    "    q_data = []\n",
    "    labels = []\n",
    "    for _ in range(num_samples):\n",
    "        coin = random.random()\n",
    "        q_data.append(coin)\n",
    "        if coin > 0.5:\n",
    "            labels.append(1)\n",
    "        else:\n",
    "            labels.append(0)\n",
    "    return np.array(q_data), np.array(labels)"
   ]
  },
  {
   "cell_type": "code",
   "execution_count": 23,
   "metadata": {},
   "outputs": [],
   "source": [
    "def thetas(n, t0=0):\n",
    "    dtheta = 2 * np.pi / n\n",
    "    return t0 + np.array([i*dtheta for i in range(n)])"
   ]
  },
  {
   "cell_type": "code",
   "execution_count": 24,
   "metadata": {},
   "outputs": [],
   "source": [
    "def unit_circle_data(t, n, t0=0):      \n",
    "    T = (np.tile([0]*n, (t,1)) + \n",
    "    np.array([np.array([np.cos(theta), np.sin(theta)]) for theta in thetas(t, t0)]))\n",
    "    ys = np.array([[1,0]]*int(np.floor(t/2)) + [[0,1]]*int(np.ceil(t/2)))\n",
    "        \n",
    "    return T, ys"
   ]
  },
  {
   "cell_type": "code",
   "execution_count": 25,
   "metadata": {},
   "outputs": [],
   "source": [
    "def unit_sphere_data(theta_a, theta_b, num_samples):\n",
    "    q_data = []\n",
    "    bloch = {\"a\": [[], [], []], \"b\": [[], [], []]}\n",
    "    labels = []\n",
    "    blob_size = abs(theta_a - theta_b) / 5\n",
    "    for _ in range(num_samples):\n",
    "        coin = random.random()\n",
    "        spread_x = np.random.uniform(-blob_size, blob_size)\n",
    "        spread_y = np.random.uniform(-blob_size, blob_size)\n",
    "        if coin < 0.5:\n",
    "            label = [1,0]\n",
    "            angle = theta_a + spread_y\n",
    "            source = \"a\"\n",
    "        else:\n",
    "            label = [0,1]\n",
    "            angle = theta_b + spread_y\n",
    "            source = \"b\"\n",
    "        labels.append(label)\n",
    "        q_data.append([angle, spread_x])\n",
    "        bloch[source][0].append(np.cos(angle))\n",
    "        bloch[source][1].append(np.sin(angle)*np.sin(spread_x))\n",
    "        bloch[source][2].append(np.sin(angle)*np.cos(spread_x))\n",
    "    return np.array(q_data), np.array(labels), bloch"
   ]
  },
  {
   "cell_type": "code",
   "execution_count": 26,
   "metadata": {},
   "outputs": [],
   "source": [
    "# vector label to scalar label \n",
    "def get_label(v):\n",
    "    if (v[0] == 1):\n",
    "        return 1\n",
    "    elif (v[0] == 0):\n",
    "        return -1\n",
    "    else:\n",
    "        return \"error\""
   ]
  },
  {
   "cell_type": "code",
   "execution_count": 27,
   "metadata": {},
   "outputs": [],
   "source": [
    "# convert classical data to quantum data using feature map circuit\n",
    "def convert_to_circuit(x, n=2):\n",
    "    qs = [cirq.GridQubit(i,0) for i in range(n)]\n",
    "    circuit = cirq.Circuit()\n",
    "    circuit.append(feature_map(x, 2))\n",
    "    return circuit"
   ]
  },
  {
   "cell_type": "code",
   "execution_count": 28,
   "metadata": {},
   "outputs": [],
   "source": [
    "def map_plus_tf(c_data):  \n",
    "    x_circ = []\n",
    "    for j in range(len(c_data)):\n",
    "        circuit_rep = convert_to_circuit(c_data[j])\n",
    "        x_circ.append(circuit_rep)\n",
    "        \n",
    "    x_tfcirc = tfq.convert_to_tensor(x_circ)\n",
    "   \n",
    "    return x_tfcirc "
   ]
  },
  {
   "cell_type": "markdown",
   "metadata": {},
   "source": [
    "### b.  Training phase"
   ]
  },
  {
   "cell_type": "code",
   "execution_count": 29,
   "metadata": {},
   "outputs": [],
   "source": [
    "# returns a bit string {0,1}^n corrensponding to the result of a measurement in the Z-basis\n",
    "# x = training samples, theta = values of the variational parameters\n",
    "def measure(x, R, theta, n=2):\n",
    "    circuit = cirq.Circuit()\n",
    "    qs = [cirq.GridQubit(i, 0) for i in range(n)]\n",
    "    circuit.append(feature_map(x, n))\n",
    "    W_circuit = cirq.Circuit()\n",
    "    for layer in range(2):\n",
    "        W_circuit.append(W_help(theta, n, 2, qs, layer, 2))\n",
    "    circuit.append(W_circuit)\n",
    "    \n",
    "    sampler = cirq.Simulator()\n",
    "    run_circuit = cirq.Circuit(circuit, cirq.measure(qs[0], qs[1], key='out'))\n",
    "    measurement = sampler.run(run_circuit, repetitions=R)\n",
    "    return measurement"
   ]
  },
  {
   "cell_type": "markdown",
   "metadata": {},
   "source": [
    "The function $f : \\{0,1\\}^n \\rightarrow C$ is fixed and chosen by the programmer."
   ]
  },
  {
   "cell_type": "code",
   "execution_count": 30,
   "metadata": {},
   "outputs": [],
   "source": [
    "# returns 1 (0) if z is even (odd)\n",
    "def f(z):\n",
    "    if z==2:\n",
    "        return 1\n",
    "    return 0 # represents -1"
   ]
  },
  {
   "cell_type": "code",
   "execution_count": 31,
   "metadata": {},
   "outputs": [],
   "source": [
    "# returns measurement probility distribution pd = (py(-1), py(+1)) for\n",
    "# data vector x and parameters theta\n",
    "def prob_dist(x, R, theta, C=[-1,+1]):\n",
    "    \n",
    "    res = measure(x, R, theta)\n",
    "    probs = np.zeros(len(C))\n",
    "    \n",
    "    hist = res.histogram(key=\"out\")\n",
    "    for k in hist.keys():\n",
    "        classification = f(k) # classification function f defined by programmer\n",
    "        probs[classification] += hist[k]\n",
    "    \n",
    "    p0 = probs[0] / R    # probability of -1 measurement\n",
    "    p1 = probs[1] / R    # probability of +1 measurement\n",
    "    \n",
    "    return (p0, p1)"
   ]
  },
  {
   "cell_type": "markdown",
   "metadata": {},
   "source": [
    "The probability that the label $m(\\textbf{x}) = y$ is assigned incorrectly is approximated by\n",
    "\n",
    "$$ \\text{Pr}(\\tilde{m}(\\textbf{x}) \\neq m(\\textbf{x})) \\approx \\text{sig}\\bigg( \\frac{\\sqrt{R}\\big( \\frac{1}{2} - \\big( \\hat{p}_y(\\textbf{x})+ \\frac{yb}{2} \\big) \\big)}{\\sqrt{2(1-\\hat{p}_y(\\textbf{x}))\\hat{p}_y(\\textbf{x})}} \\bigg) $$ \n",
    "\n",
    "where $\\text{sig}(x) = (1+ e^{-x})^{-1}$ is the sigmoid function."
   ]
  },
  {
   "cell_type": "code",
   "execution_count": 32,
   "metadata": {},
   "outputs": [],
   "source": [
    "def sig(x): \n",
    "    return (1/(1+np.exp(-x)))"
   ]
  },
  {
   "cell_type": "code",
   "execution_count": 33,
   "metadata": {},
   "outputs": [],
   "source": [
    "# error probablility\n",
    "def prob_incorrect(R, pd, y, b=0):\n",
    "    if y == -1:\n",
    "        py = pd[0]\n",
    "    elif y == 1:\n",
    "        py = pd[1]\n",
    "    else: \n",
    "        assert False, \"expected y in {-1,+1}\"\n",
    "    n = np.sqrt(R)*(1/2.-(py+y*b/2.))\n",
    "    d = np.sqrt(2*(1-py)*py)\n",
    "    if d == 0:\n",
    "        return 0\n",
    "    return sig(n/d)"
   ]
  },
  {
   "cell_type": "markdown",
   "metadata": {},
   "source": [
    "We define the empirical risk $R_{\\text{emp}}(\\theta)$ in terms of the error probability $\\text{Pr}(\\tilde{m}(\\textbf{x} \\neq m(\\textbf{x}))$ of assigning the incorrect label, based on the decision rule $\\tilde{m}(\\textbf{s}) = \\text{argmax}_y\\{ \\hat{p}_y(\\textbf{s}) \\}$ after R shots, averaged over the samples in the training set $T$. In the binary case this decision rule simplifies to $\\tilde{m}(\\textbf{x}) = y$ whenever $\\hat{p}_y(\\textbf{x}) > \\hat{p}_{-y}(\\textbf{x}) - yb$.\n",
    "\n",
    "$$ R_{\\text{emp}}(\\theta) = \\frac{1}{|T|} \\sum_{\\textbf{x} \\in T} \\text{Pr}(\\tilde{m}(\\textbf{x}) \\neq m(\\textbf{x})).$$"
   ]
  },
  {
   "cell_type": "code",
   "execution_count": 34,
   "metadata": {},
   "outputs": [],
   "source": [
    "def Remp(x, y, R, T, theta):\n",
    "    risk = 0.0\n",
    "    for i in range(T):\n",
    "        try:\n",
    "            pd = prob_dist(x[i], R, theta)\n",
    "        except ValueError:\n",
    "            return -1\n",
    "        pi = prob_incorrect(R, pd, get_label(y[i]))\n",
    "        risk += pi\n",
    "    return risk/T"
   ]
  },
  {
   "cell_type": "code",
   "execution_count": 35,
   "metadata": {},
   "outputs": [],
   "source": [
    "# SPSA (simultaneous perturbation stochastic approximation) to optimize theta\n",
    "def SPSA(N, R, a, A, c, alpha, gamma, theta):\n",
    "    p = len(theta) # dimension for random perturbation vector\n",
    "    risk = []\n",
    "    for k in range(1,N):\n",
    "        if (100*k/N)%20 == 0:\n",
    "            print(str(100*k/N)+\"%...\")\n",
    "        ak = a/((A+k)**alpha)\n",
    "        ck = c/(k**gamma)\n",
    "        delta = 0.2*np.around(np.random.rand(1,p),2)-1\n",
    "        thetaplus = theta+(ck*delta)\n",
    "        thetaminus = theta-(ck*delta)\n",
    "        yplus = Remp(q_data, labels, R, num_samples, thetaplus[0])\n",
    "        yminus = Remp(q_data, labels, R, num_samples, thetaminus[0])\n",
    "        if yplus - yminus == 0:\n",
    "            pass\n",
    "        elif (yplus == -1 or yminus == -1):\n",
    "            pass\n",
    "        else:\n",
    "            for i,x in enumerate(delta[0]):\n",
    "                if x == 0:\n",
    "                    print(\"got here oops\")\n",
    "                    delta[0][i] = 1e-2\n",
    "            ghat = (yplus - yminus)/(2*ck*delta)\n",
    "            theta = theta-ak*ghat\n",
    "            risk.append(yplus)\n",
    "    print(\"Done\")\n",
    "    return theta, risk"
   ]
  },
  {
   "cell_type": "code",
   "execution_count": 36,
   "metadata": {},
   "outputs": [],
   "source": [
    "def adjust_param(R, delta, i, theta):\n",
    "    thetaplus = theta.copy()\n",
    "    thetaminus = theta.copy()\n",
    "    thetaplus[i*2] += delta\n",
    "    thetaplus[i*2+1] += delta\n",
    "    thetaminus[i*2] -= delta\n",
    "    thetaminus[i*2+1] -= delta    \n",
    "    y = Remp(q_data, labels, R, num_samples, theta)\n",
    "    yplus = Remp(q_data, labels, R, num_samples, thetaplus)\n",
    "    yminus = Remp(q_data, labels, R, num_samples, thetaminus)\n",
    "    if (yplus < y and yplus < yminus and yplus != -1):\n",
    "        #print(\"i = \" + str(i) + \" returning yplus, theta = \" + str(thetaplus))\n",
    "        return thetaplus, yplus\n",
    "    elif (yminus < y and yminus < yplus and yminus != -1):\n",
    "        #print(\"i = \" + str(i) + \" returning yminus, theta = \" + str(thetaminus))\n",
    "        return thetaminus, yminus\n",
    "    else:\n",
    "        #print(\"i = \" + str(i) + \" returning original, theta = \" + str(theta))\n",
    "        return theta, y"
   ]
  },
  {
   "cell_type": "code",
   "execution_count": 37,
   "metadata": {},
   "outputs": [],
   "source": [
    "def optimize_theta(N, R, delta, i, theta, risk):\n",
    "    if N == 0:\n",
    "        return theta, risk\n",
    "    else:\n",
    "        theta_new, risk_new = adjust_param(R, delta, i, theta)\n",
    "        if i == (len(theta)/2)-1:\n",
    "            #print(\"N = \" +  str(N-1))\n",
    "            #print(\"theta = \" + str(theta))\n",
    "            risk_copy = risk.copy()\n",
    "            risk_copy.append(risk_new)\n",
    "            return optimize_theta(N-1, R, delta, 0, theta_new, risk_copy)\n",
    "        else:\n",
    "            return optimize_theta(N, R, delta, i+1, theta_new, risk)\n",
    "        "
   ]
  },
  {
   "cell_type": "code",
   "execution_count": 38,
   "metadata": {},
   "outputs": [],
   "source": [
    "# initialize needed variables and coefficients\n",
    "qubit = cirq.GridQubit(0,0)\n",
    "\n",
    "theta0 = np.random.rand(8) # initialize parameters to be trained\n",
    "N = 100 # number of iterations\n",
    "R = 10 # number of measurement shots\n",
    "num_samples = 20\n",
    "n = 2\n",
    "a = 1e-9 \n",
    "A = 10\n",
    "c = 1e-6\n",
    "alpha = 0.1\n",
    "gamma = 10\n",
    "\n",
    "delta = 0.01\n",
    "\n",
    "# shuffler = np.random.permutation(len(q_data))\n",
    "# q_data = q_data[shuffler]\n",
    "# labels = labels[shuffler]"
   ]
  },
  {
   "cell_type": "code",
   "execution_count": 39,
   "metadata": {},
   "outputs": [],
   "source": [
    "#theta_prime, risk = optimize_theta(N, R, delta, 0, theta0, [])"
   ]
  },
  {
   "cell_type": "code",
   "execution_count": 40,
   "metadata": {},
   "outputs": [],
   "source": [
    "#theta_prime, risk = SPSA(N, R, a, A, c, alpha, gamma, theta0) # new optimized thetas"
   ]
  },
  {
   "cell_type": "code",
   "execution_count": 41,
   "metadata": {},
   "outputs": [],
   "source": [
    "def build_model(i):\n",
    "    \n",
    "    a,b,c,d,e,f,g,h = sympy.symbols('a b c d e f g h')\n",
    "    theta0 = sympy.Matrix([a,b,c,d,e,f,g,h])\n",
    "    q_model = cirq.Circuit()\n",
    "    q_model.append(W_circuit(theta0))\n",
    "    q_data_input = tf.keras.Input(shape=(), dtype=tf.dtypes.string)\n",
    "    measure_z = tfq.layers.PQC(q_model, cirq.Z(qubit))\n",
    "    measure_zout = measure_z(q_data_input)\n",
    "    \n",
    "    weights = \"cp\"+str(i)+\".cpkt\"\n",
    "    checkpoint_path = \"training/\"+weights\n",
    "    checkpoint_dir = os.path.dirname(checkpoint_path)\n",
    "\n",
    "    classifier = tf.keras.layers.Dense(2, activation=tf.keras.activations.sigmoid)\n",
    "    classifier_output = classifier(measure_zout)\n",
    "    model = tf.keras.Model(inputs=q_data_input, outputs=classifier_output)\n",
    "    model.compile(optimizer=tf.keras.optimizers.Adam(learning_rate=0.1),\n",
    "        loss=tf.keras.losses.BinaryCrossentropy(),metrics=['accuracy'])\n",
    "    \n",
    "    return model, checkpoint_path"
   ]
  },
  {
   "cell_type": "code",
   "execution_count": 42,
   "metadata": {},
   "outputs": [],
   "source": [
    "def train_help(train_data, train_labels, epochs, i, N):\n",
    "    \n",
    "    x_train_tfcirc = map_plus_tf(expand(train_data))\n",
    "    model, checkpoint_path = build_model(i)\n",
    "    cp_callback = tf.keras.callbacks.ModelCheckpoint(filepath=checkpoint_path,save_weights_only=True,verbose=0)\n",
    "    history = model.fit(x=x_train_tfcirc, y=expand(train_labels), epochs=epochs, verbose=0, callbacks=[cp_callback])\n",
    "    \n",
    "    progress = 100*(i+1)/N\n",
    "    if (progress%10 == 0):\n",
    "        print(str(progress)+\"%...\")\n",
    "    \n",
    "    return checkpoint_path, history.history['loss']"
   ]
  },
  {
   "cell_type": "code",
   "execution_count": 43,
   "metadata": {},
   "outputs": [],
   "source": [
    "def train(train_data, train_labels, epochs):\n",
    "    N = len(train_data)\n",
    "    assert(N == len(train_labels))\n",
    "    hst = []\n",
    "    print(\"progress: \")\n",
    "    for i in range(N):\n",
    "        checkpoint_path, history = train_help(train_data[i], train_labels[i], epochs, i, N)\n",
    "        hst.append((checkpoint_path, history))\n",
    "    return hst"
   ]
  },
  {
   "cell_type": "markdown",
   "metadata": {},
   "source": [
    "### c. Classification phase"
   ]
  },
  {
   "cell_type": "code",
   "execution_count": 44,
   "metadata": {},
   "outputs": [],
   "source": [
    "def classify(x, y, R, theta_prime):\n",
    "    count_correct = 0\n",
    "    for i in range(len(x)):\n",
    "        pd = prob_dist(x[i], R, theta_prime)\n",
    "        label = np.argmax(pd)\n",
    "        if label == y[i][0]:\n",
    "            count_correct +=1\n",
    "    return count_correct/(len(x))"
   ]
  },
  {
   "cell_type": "code",
   "execution_count": 45,
   "metadata": {},
   "outputs": [],
   "source": [
    "def test(test_data, test_labels, hst):\n",
    "    N = len(test_data)\n",
    "    assert(N == len(test_labels))\n",
    "    accuracy = []\n",
    "    error = []\n",
    "    for i in range(N):\n",
    "        path = hst[i][0]\n",
    "        x_test_tfcirc = map_plus_tf(expand(test_data[i]))\n",
    "        model, _ = build_model(i)\n",
    "        model.load_weights(path)\n",
    "        result = model.evaluate(x_test_tfcirc, expand(test_labels[i]), verbose=0)\n",
    "        accuracy.append(result[1])\n",
    "        error.append(hst[i][1])\n",
    "    return sum(accuracy)/N, lst_average(error)"
   ]
  },
  {
   "cell_type": "code",
   "execution_count": 46,
   "metadata": {},
   "outputs": [],
   "source": [
    "grid search for optimal parameters\n",
    "params = [0.0001, 0.1, 10]\n",
    "best = 0.0\n",
    "second_best = 0.0\n",
    "optimal_params = [0,0,0,0,0]\n",
    "second_params = [0,0,0,0,0]\n",
    "progress = 0\n",
    "for a in [1e-9, 1e-6, 1e-3]:\n",
    "    for A in [10, 100]:\n",
    "        for c in [1e-9, 1e-6, 1e-3]:\n",
    "            for alpha in [0.001, 0.1, 1]:\n",
    "                for gamma in [0.0001, 0.1, 10]:\n",
    "                    theta_prime = SPSA(N, R, a, A, c, alpha, gamma, theta0)[0]\n",
    "                    accuracy = classify(q_data, labels, 10, theta_prime)\n",
    "                    if accuracy > best:\n",
    "                        best = accuracy\n",
    "                        optimal_params = [a, A, c, alpha, gamma]\n",
    "                    elif accuracy > second_best:\n",
    "                        second_best = accuracy\n",
    "                        second_params = [a, A, c, alpha, gamma]\n",
    "                    #progress += 1\n",
    "                    #if progress%27 == 0:\n",
    "                        #print(str(100*progress/162)+\"%...\")\n",
    "# print(\"best=\"+str(best))\n",
    "# print(optimal_params)\n",
    "# print(\"second best=\"+str(second_best))\n",
    "# print(second_params)"
   ]
  },
  {
   "cell_type": "code",
   "execution_count": 47,
   "metadata": {},
   "outputs": [],
   "source": [
    "tf.compat.v1.logging.set_verbosity(tf.compat.v1.logging.ERROR)"
   ]
  },
  {
   "cell_type": "markdown",
   "metadata": {},
   "source": [
    "Test on unit-circle"
   ]
  },
  {
   "cell_type": "code",
   "execution_count": 48,
   "metadata": {},
   "outputs": [
    {
     "data": {
      "image/png": "[encoded data removed]",
      "text/plain": [
       "<Figure size 432x288 with 1 Axes>"
      ]
     },
     "metadata": {
      "needs_background": "light"
     },
     "output_type": "display_data"
    }
   ],
   "source": [
    "circle_data, circle_labels = unit_circle_data(t=30,n=2,t0=-np.pi/2+0.04)\n",
    "\n",
    "x_blue = []\n",
    "y_blue = []\n",
    "x_red = []\n",
    "y_red = []\n",
    "for i in range(len(circle_data)):\n",
    "    if circle_labels[i][0] == 0:\n",
    "        x_red.append(circle_data[i][0])\n",
    "        y_red.append(circle_data[i][1])\n",
    "    else:\n",
    "        x_blue.append(circle_data[i][0])\n",
    "        y_blue.append(circle_data[i][1])\n",
    "\n",
    "plt.plot(x_red, y_red,'o', color=\"red\")\n",
    "plt.plot(x_blue, y_blue,'o')\n",
    "plt.grid()\n",
    "plt.savefig('unit_circle')\n",
    "plt.show()"
   ]
  },
  {
   "cell_type": "code",
   "execution_count": 49,
   "metadata": {},
   "outputs": [
    {
     "name": "stdout",
     "output_type": "stream",
     "text": [
      "progress: \n",
      "10.0%...\n",
      "20.0%...\n",
      "30.0%...\n",
      "40.0%...\n",
      "50.0%...\n",
      "60.0%...\n",
      "70.0%...\n",
      "80.0%...\n",
      "90.0%...\n",
      "100.0%...\n"
     ]
    }
   ],
   "source": [
    "history = train(circle_data, circle_labels, epochs=30)"
   ]
  },
  {
   "cell_type": "code",
   "execution_count": 50,
   "metadata": {},
   "outputs": [
    {
     "name": "stdout",
     "output_type": "stream",
     "text": [
      "accuracy = 1.0\n"
     ]
    }
   ],
   "source": [
    "accuracy, error = test(circle_data, circle_labels, history)\n",
    "print(\"accuracy = \"+str(accuracy))"
   ]
  },
  {
   "cell_type": "code",
   "execution_count": 51,
   "metadata": {},
   "outputs": [
    {
     "data": {
      "image/png": "[encoded data removed]",
      "text/plain": [
       "<Figure size 432x288 with 1 Axes>"
      ]
     },
     "metadata": {
      "needs_background": "light"
     },
     "output_type": "display_data"
    }
   ],
   "source": [
    "plt.plot(error)\n",
    "plt.title(\"Unit-Circle Binary Classification\")\n",
    "plt.xlabel(\"Iterations\")\n",
    "plt.ylabel(\"Loss\")\n",
    "plt.savefig('Unit_Circle_Classification')\n",
    "plt.show()"
   ]
  },
  {
   "cell_type": "markdown",
   "metadata": {},
   "source": [
    "Test on unit-sphere"
   ]
  },
  {
   "cell_type": "code",
   "execution_count": 52,
   "metadata": {},
   "outputs": [],
   "source": [
    "theta_a = 1\n",
    "theta_b = 4\n",
    "num_samples = 50\n",
    "bloch_data, bloch_labels, bloch_p = unit_sphere_data(theta_a, theta_b, num_samples)\n",
    "bloch_data_test, bloch_labels_test, _, = unit_sphere_data(theta_a, theta_b, num_samples)"
   ]
  },
  {
   "cell_type": "code",
   "execution_count": 53,
   "metadata": {},
   "outputs": [
    {
     "data": {
      "image/png": "[encoded data removed]",
      "text/plain": [
       "<Figure size 360x360 with 1 Axes>"
      ]
     },
     "metadata": {},
     "output_type": "display_data"
    }
   ],
   "source": [
    "# View the dataset on the Bloch sphere using qutip\n",
    "bloch = qutip.Bloch()\n",
    "bloch.sphere_alpha = 0.0\n",
    "bloch.frame_alpha = 0.05\n",
    "bloch.vector_color[0] = bloch.point_color[0] = \"#a4c2f4ff\"\n",
    "bloch.vector_color[1] = bloch.point_color[1] = \"#ffab40ff\"\n",
    "bloch.add_points(bloch_p[\"a\"])\n",
    "bloch.add_points(bloch_p[\"b\"])\n",
    "vec = [[np.cos(theta_a),0,np.sin(theta_a)]]\n",
    "bloch.add_vectors(vec)\n",
    "vec = [[np.cos(theta_b),0,np.sin(theta_b)]]\n",
    "bloch.add_vectors(vec)\n",
    "bloch.show()"
   ]
  },
  {
   "cell_type": "code",
   "execution_count": 54,
   "metadata": {},
   "outputs": [
    {
     "name": "stdout",
     "output_type": "stream",
     "text": [
      "progress: \n",
      "10.0%...\n",
      "20.0%...\n",
      "30.0%...\n",
      "40.0%...\n",
      "50.0%...\n",
      "60.0%...\n",
      "70.0%...\n",
      "80.0%...\n",
      "90.0%...\n",
      "100.0%...\n"
     ]
    }
   ],
   "source": [
    "history = train(bloch_data, bloch_labels, epochs=30)"
   ]
  },
  {
   "cell_type": "code",
   "execution_count": 55,
   "metadata": {},
   "outputs": [
    {
     "name": "stdout",
     "output_type": "stream",
     "text": [
      "accuracy = 0.98\n"
     ]
    }
   ],
   "source": [
    "accuracy, error = test(bloch_data, bloch_labels, history)\n",
    "print(\"accuracy = \"+str(accuracy))"
   ]
  },
  {
   "cell_type": "code",
   "execution_count": 56,
   "metadata": {},
   "outputs": [
    {
     "data": {
      "image/png": "[encoded data removed]",
      "text/plain": [
       "<Figure size 432x288 with 1 Axes>"
      ]
     },
     "metadata": {
      "needs_background": "light"
     },
     "output_type": "display_data"
    }
   ],
   "source": [
    "plt.plot(error)\n",
    "plt.title(\"Unit-Sphere Binary Classification\")\n",
    "plt.xlabel(\"Iterations\")\n",
    "plt.ylabel(\"Loss\")\n",
    "plt.savefig('Unit_Sphere_Classification')\n",
    "plt.show()"
   ]
  },
  {
   "cell_type": "markdown",
   "metadata": {},
   "source": [
    "## 4. Binary label classification for two numbers from the MNIST dataset"
   ]
  },
  {
   "cell_type": "markdown",
   "metadata": {},
   "source": [
    "Future work"
   ]
  },
  {
   "cell_type": "code",
   "execution_count": null,
   "metadata": {},
   "outputs": [],
   "source": [
    "# load the MNIST dataset\n",
    "(x_train, y_train), (x_test, y_test) = tf.keras.datasets.mnist.load_data()\n",
    "\n",
    "# Rescale the images from [0,255] to the [0.0,1.0] range.\n",
    "x_train, x_test = x_train[..., np.newaxis]/255.0, x_test[..., np.newaxis]/255.0\n",
    "\n",
    "print(\"Number of original training examples:\", len(x_train))\n",
    "print(\"Number of original test examples:\", len(x_test))"
   ]
  },
  {
   "cell_type": "code",
   "execution_count": null,
   "metadata": {},
   "outputs": [],
   "source": [
    "# With one readout bit we cannot label ten digits so instead we pick two digits, say 3 and 6. So filter dataset \n",
    "# to keep just 3s and 6s and convert label (y) to boolean: 3=True, 6=False\n",
    "def filter_36(x, y):\n",
    "    keep = (y == 3) | (y == 6)\n",
    "    x, y = x[keep], y[keep]\n",
    "    y = y == 3\n",
    "    return x,y"
   ]
  },
  {
   "cell_type": "code",
   "execution_count": null,
   "metadata": {},
   "outputs": [],
   "source": [
    "x_train, y_train = filter_36(x_train, y_train)\n",
    "x_test, y_test = filter_36(x_test, y_test)\n",
    "\n",
    "print(\"Number of filtered training examples:\", len(x_train))\n",
    "print(\"Number of filtered test examples:\", len(x_test))"
   ]
  },
  {
   "cell_type": "code",
   "execution_count": null,
   "metadata": {},
   "outputs": [],
   "source": [
    "# Show first example\n",
    "print(y_train[0])\n",
    "\n",
    "plt.imshow(x_train[0, :, :, 0])\n",
    "plt.colorbar()"
   ]
  },
  {
   "cell_type": "code",
   "execution_count": null,
   "metadata": {},
   "outputs": [],
   "source": [
    "# Can only easily handle say 16 bit data using a classical simulator of a 17 qubit quantum computer with one \n",
    "# readout bit, so resize images from 28x28 to 4x4\n",
    "x_train_small = tf.image.resize(x_train, (4,4)).numpy()\n",
    "x_test_small = tf.image.resize(x_test, (4,4)).numpy()"
   ]
  },
  {
   "cell_type": "code",
   "execution_count": null,
   "metadata": {},
   "outputs": [],
   "source": [
    "# Show first example after resize\n",
    "print(y_train[0])\n",
    "\n",
    "plt.imshow(x_train_small[0,:,:,0], vmin=0, vmax=1)\n",
    "plt.colorbar()"
   ]
  },
  {
   "cell_type": "code",
   "execution_count": null,
   "metadata": {},
   "outputs": [],
   "source": [
    "# Filter the dataset to remove images that are labeled as belonging to both classes, as suggested in Farhi et al. \n",
    "# Section 3.3 Learning to Distinguish Digits. Note: this filtering will not totally prevent the model from \n",
    "# receiving contradictory training examples.\n",
    "def remove_contradicting(xs, ys):\n",
    "    mapping = collections.defaultdict(set)\n",
    "    # Determine the set of labels for each unique image:\n",
    "    for x,y in zip(xs,ys):\n",
    "        mapping[tuple(x.flatten())].add(y)\n",
    "\n",
    "    new_x = []\n",
    "    new_y = []\n",
    "    for x,y in zip(xs, ys):\n",
    "        labels = mapping[tuple(x.flatten())]\n",
    "        if len(labels) == 1:\n",
    "            new_x.append(x)\n",
    "            new_y.append(labels.pop())\n",
    "        else:\n",
    "            # Throw out images that match more than one label.\n",
    "            pass\n",
    "\n",
    "    num_3 = sum(1 for value in mapping.values() if True in value)\n",
    "    num_6 = sum(1 for value in mapping.values() if False in value)\n",
    "    num_both = sum(1 for value in mapping.values() if len(value) == 2)\n",
    "\n",
    "    print(\"Number of unique images:\", len(mapping.values()))\n",
    "    print(\"Number of 3s: \", num_3)\n",
    "    print(\"Number of 6s: \", num_6)\n",
    "    print(\"Number of contradictory images: \", num_both)\n",
    "    print()\n",
    "    print(\"Initial number of examples: \", len(xs))\n",
    "    print(\"Remaining non-contradictory examples: \", len(new_x))\n",
    "\n",
    "    return np.array(new_x), np.array(new_y)"
   ]
  },
  {
   "cell_type": "code",
   "execution_count": null,
   "metadata": {},
   "outputs": [],
   "source": [
    "x_train_nocon, y_train_nocon = remove_contradicting(x_train_small, y_train)"
   ]
  },
  {
   "cell_type": "code",
   "execution_count": null,
   "metadata": {},
   "outputs": [],
   "source": [
    "# To process images using a quantum computer, represent each pixel with a qubit, with the state depending on\n",
    "# the value of the pixel. First, convert to a binary encoding.\n",
    "THRESHOLD = 0.5\n",
    "\n",
    "x_train_bin = np.array(x_train_nocon > THRESHOLD, dtype=np.float32)\n",
    "x_test_bin = np.array(x_test_small > THRESHOLD, dtype=np.float32)"
   ]
  },
  {
   "cell_type": "code",
   "execution_count": null,
   "metadata": {},
   "outputs": [],
   "source": [
    "# def convert_to_circuit(image, n=4):\n",
    "#     x = image.flatten()\n",
    "#     qs = [cirq.GridQubit(i, 0) for i in range(n)]\n",
    "#     circuit = cirq.Circuit()\n",
    "#     circuit.append(feature_map(x, 4))\n",
    "#     circuit.append(W_circuit)\n",
    "#     return circuit"
   ]
  },
  {
   "cell_type": "code",
   "execution_count": null,
   "metadata": {},
   "outputs": [],
   "source": [
    "x_train_circ = [convert_to_circuit(x) for x in x_train_bin]\n",
    "x_test_circ = [convert_to_circuit(x) for x in x_test_bin]"
   ]
  },
  {
   "cell_type": "code",
   "execution_count": null,
   "metadata": {},
   "outputs": [],
   "source": [
    "SVGCircuit(x_train_circ[0])"
   ]
  },
  {
   "cell_type": "code",
   "execution_count": null,
   "metadata": {},
   "outputs": [],
   "source": [
    "# x_train_tfcirc = tfq.convert_to_tensor(x_train_circ)\n",
    "# x_test_tfcirc = tfq.convert_to_tensor(x_test_circ)"
   ]
  },
  {
   "cell_type": "code",
   "execution_count": null,
   "metadata": {},
   "outputs": [],
   "source": [
    "tfq.util.get_supported_gates()"
   ]
  }
 ],
 "metadata": {
  "kernelspec": {
   "display_name": "Python 3",
   "language": "python",
   "name": "python3"
  },
  "language_info": {
   "codemirror_mode": {
    "name": "ipython",
    "version": 3
   },
   "file_extension": ".py",
   "mimetype": "text/x-python",
   "name": "python",
   "nbconvert_exporter": "python",
   "pygments_lexer": "ipython3",
   "version": "3.8.5"
  }
 },
 "nbformat": 4,
 "nbformat_minor": 4
}
